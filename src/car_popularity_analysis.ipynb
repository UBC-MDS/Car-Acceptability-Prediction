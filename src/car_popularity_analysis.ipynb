{
 "cells": [
  {
   "cell_type": "markdown",
   "id": "daf3f4d4-951b-4bf7-826a-22975c66ff33",
   "metadata": {},
   "source": [
    "# Exploratory Data Analysis of the Car Evaluation Data Set"
   ]
  },
  {
   "cell_type": "markdown",
   "id": "5231e320-d791-4fef-aa09-2ec2efa72236",
   "metadata": {},
   "source": [
    "## Summary of data set"
   ]
  },
  {
   "cell_type": "markdown",
   "id": "4c729e0d-0cdf-47e9-a8b8-939c56d22c8f",
   "metadata": {},
   "source": [
    "The data set analyzed in this project was primarily collected in June, 1997 by Marko Bohanec to evaluate HINT (Hierarchy INduction Tool), which is presented in B. Zupan, M. Bohanec, I. Bratko, J. Demsar: Machine learning by function decomposition. ICML-97, Nashville, TN. 1997. The data can be accessed from the <a href=\"https://archive-beta.ics.uci.edu/dataset/19/car+evaluation\" target=\"_blank\">UC Irvine Machine Learning Repository</a> and follows an <a href=\"https://creativecommons.org/licenses/by/4.0/legalcode\" target=\"_blank\">Creative Commons Attribution 4.0 International License</a>.  \n",
    "\n",
    "There are 1728 observations in the data set. Each row represents an individual car with one target and six input attributes. The target includes four classes like unacc, acc, good, and vgood. The six input attributes are overall price (buying), price of the maintenance (maint), number of doors (doors), capacity in terms of persons to carry (persons), the size of luggage boot (lug_boot) and the safety of the car (safety).  \n",
    "\n",
    "We want to study the estimated the popularity/acceptability of cars (class) based on six input features."
   ]
  },
  {
   "cell_type": "markdown",
   "id": "1f6bd969-9258-4fec-98d6-95d71543b0dc",
   "metadata": {},
   "source": [
    "## Read and split data into training and test sets"
   ]
  },
  {
   "cell_type": "code",
   "execution_count": 1,
   "id": "2894c18c-a95a-474b-bf3b-1e19cda24fd8",
   "metadata": {},
   "outputs": [
    {
     "data": {
      "text/plain": [
       "DataTransformerRegistry.enable('data_server')"
      ]
     },
     "execution_count": 1,
     "metadata": {},
     "output_type": "execute_result"
    }
   ],
   "source": [
    "import altair as alt\n",
    "import pandas as pd\n",
    "from sklearn.model_selection import train_test_split\n",
    "# reference to DSCI 531\n",
    "# Save a vega-lite spec and a PNG blob for each plot in the notebook\n",
    "alt.renderers.enable('mimetype')\n",
    "# Handle large data sets without embedding them in the notebook\n",
    "alt.data_transformers.enable('data_server')"
   ]
  },
  {
   "cell_type": "code",
   "execution_count": 2,
   "id": "17d85d55-504e-452e-8eb0-7c6053358245",
   "metadata": {},
   "outputs": [
    {
     "data": {
      "text/html": [
       "<div>\n",
       "<style scoped>\n",
       "    .dataframe tbody tr th:only-of-type {\n",
       "        vertical-align: middle;\n",
       "    }\n",
       "\n",
       "    .dataframe tbody tr th {\n",
       "        vertical-align: top;\n",
       "    }\n",
       "\n",
       "    .dataframe thead th {\n",
       "        text-align: right;\n",
       "    }\n",
       "</style>\n",
       "<table border=\"1\" class=\"dataframe\">\n",
       "  <thead>\n",
       "    <tr style=\"text-align: right;\">\n",
       "      <th></th>\n",
       "      <th>buying</th>\n",
       "      <th>maint</th>\n",
       "      <th>doors</th>\n",
       "      <th>persons</th>\n",
       "      <th>lug_boot</th>\n",
       "      <th>safety</th>\n",
       "      <th>class</th>\n",
       "    </tr>\n",
       "  </thead>\n",
       "  <tbody>\n",
       "    <tr>\n",
       "      <th>1625</th>\n",
       "      <td>low</td>\n",
       "      <td>low</td>\n",
       "      <td>2</td>\n",
       "      <td>2</td>\n",
       "      <td>med</td>\n",
       "      <td>high</td>\n",
       "      <td>unacc</td>\n",
       "    </tr>\n",
       "    <tr>\n",
       "      <th>210</th>\n",
       "      <td>vhigh</td>\n",
       "      <td>high</td>\n",
       "      <td>5more</td>\n",
       "      <td>more</td>\n",
       "      <td>med</td>\n",
       "      <td>low</td>\n",
       "      <td>unacc</td>\n",
       "    </tr>\n",
       "    <tr>\n",
       "      <th>755</th>\n",
       "      <td>high</td>\n",
       "      <td>med</td>\n",
       "      <td>5more</td>\n",
       "      <td>more</td>\n",
       "      <td>big</td>\n",
       "      <td>high</td>\n",
       "      <td>acc</td>\n",
       "    </tr>\n",
       "    <tr>\n",
       "      <th>1113</th>\n",
       "      <td>med</td>\n",
       "      <td>med</td>\n",
       "      <td>3</td>\n",
       "      <td>2</td>\n",
       "      <td>big</td>\n",
       "      <td>low</td>\n",
       "      <td>unacc</td>\n",
       "    </tr>\n",
       "    <tr>\n",
       "      <th>959</th>\n",
       "      <td>med</td>\n",
       "      <td>vhigh</td>\n",
       "      <td>5more</td>\n",
       "      <td>4</td>\n",
       "      <td>med</td>\n",
       "      <td>high</td>\n",
       "      <td>acc</td>\n",
       "    </tr>\n",
       "  </tbody>\n",
       "</table>\n",
       "</div>"
      ],
      "text/plain": [
       "     buying  maint  doors persons lug_boot safety  class\n",
       "1625    low    low      2       2      med   high  unacc\n",
       "210   vhigh   high  5more    more      med    low  unacc\n",
       "755    high    med  5more    more      big   high    acc\n",
       "1113    med    med      3       2      big    low  unacc\n",
       "959     med  vhigh  5more       4      med   high    acc"
      ]
     },
     "execution_count": 2,
     "metadata": {},
     "output_type": "execute_result"
    }
   ],
   "source": [
    "# add col names\n",
    "colnames=['buying', 'maint', 'doors', 'persons', 'lug_boot', 'safety', 'class'] \n",
    "# load raw data  \n",
    "car = pd.read_csv('../data/raw/raw_data.csv', names = colnames, header = 0)\n",
    "# we only use train data for our EDA, set seed for reproducibility\n",
    "train_df, test_df = train_test_split(car, test_size=0.10, random_state=522)\n",
    "# view first 5 rows of car training set \n",
    "train_df.head()"
   ]
  },
  {
   "cell_type": "markdown",
   "id": "6d27ac2d-7b72-428d-842d-91b498e5554d",
   "metadata": {},
   "source": [
    "We have split 90% of observations in the training set and 10% of observation in the test set. Table 1 lists the counts of observations for each class as below."
   ]
  },
  {
   "cell_type": "code",
   "execution_count": 3,
   "id": "8a54a378-3b4f-41f1-9cec-8ae9e1c6d311",
   "metadata": {},
   "outputs": [
    {
     "data": {
      "text/html": [
       "<style>\n",
       "table {float:left}\n",
       "</style>\n"
      ],
      "text/plain": [
       "<IPython.core.display.HTML object>"
      ]
     },
     "metadata": {},
     "output_type": "display_data"
    }
   ],
   "source": [
    "%%html\n",
    "<style>\n",
    "table {float:left}\n",
    "</style>"
   ]
  },
  {
   "cell_type": "markdown",
   "id": "b46a80bc-8de3-45ff-a744-c15460d5b60f",
   "metadata": {},
   "source": [
    "| Data partition | Number of observation |\n",
    "| :------------- | -----------:          |\n",
    "| Training       |              1555     |\n",
    "| Test           |               173     |\n"
   ]
  },
  {
   "cell_type": "markdown",
   "id": "c5f925fb-2639-4bc0-8d66-9af1b6305758",
   "metadata": {},
   "source": [
    "Table 1. Counts of observations for training and test set"
   ]
  },
  {
   "cell_type": "markdown",
   "id": "11f8af9d-537f-4084-a8e1-e9f42ca49efb",
   "metadata": {},
   "source": [
    "## EDA for Categorical Variables"
   ]
  },
  {
   "cell_type": "code",
   "execution_count": 3,
   "id": "7fec4d87-895a-47a0-ae3b-0ff7992f8218",
   "metadata": {},
   "outputs": [
    {
     "name": "stdout",
     "output_type": "stream",
     "text": [
      "<class 'pandas.core.frame.DataFrame'>\n",
      "Int64Index: 1555 entries, 1625 to 1312\n",
      "Data columns (total 7 columns):\n",
      " #   Column    Non-Null Count  Dtype \n",
      "---  ------    --------------  ----- \n",
      " 0   buying    1555 non-null   object\n",
      " 1   maint     1555 non-null   object\n",
      " 2   doors     1555 non-null   object\n",
      " 3   persons   1555 non-null   object\n",
      " 4   lug_boot  1555 non-null   object\n",
      " 5   safety    1555 non-null   object\n",
      " 6   class     1555 non-null   object\n",
      "dtypes: object(7)\n",
      "memory usage: 97.2+ KB\n"
     ]
    }
   ],
   "source": [
    "# check missing values and data types\n",
    "train_df.info()"
   ]
  },
  {
   "cell_type": "markdown",
   "id": "7977cf02-a656-48af-a21f-67118a3627d6",
   "metadata": {},
   "source": [
    "There is no missing value for all 1555 observations in the training set. The data type of all variables are object and according to the introduction we know all of them are categorical data."
   ]
  },
  {
   "cell_type": "code",
   "execution_count": 4,
   "id": "d9f21048-654c-4e98-a63e-a34dc179007e",
   "metadata": {},
   "outputs": [
    {
     "data": {
      "text/html": [
       "<div>\n",
       "<style scoped>\n",
       "    .dataframe tbody tr th:only-of-type {\n",
       "        vertical-align: middle;\n",
       "    }\n",
       "\n",
       "    .dataframe tbody tr th {\n",
       "        vertical-align: top;\n",
       "    }\n",
       "\n",
       "    .dataframe thead th {\n",
       "        text-align: right;\n",
       "    }\n",
       "</style>\n",
       "<table border=\"1\" class=\"dataframe\">\n",
       "  <thead>\n",
       "    <tr style=\"text-align: right;\">\n",
       "      <th></th>\n",
       "      <th>buying</th>\n",
       "      <th>maint</th>\n",
       "      <th>doors</th>\n",
       "      <th>persons</th>\n",
       "      <th>lug_boot</th>\n",
       "      <th>safety</th>\n",
       "      <th>class</th>\n",
       "    </tr>\n",
       "  </thead>\n",
       "  <tbody>\n",
       "    <tr>\n",
       "      <th>count</th>\n",
       "      <td>1555</td>\n",
       "      <td>1555</td>\n",
       "      <td>1555</td>\n",
       "      <td>1555</td>\n",
       "      <td>1555</td>\n",
       "      <td>1555</td>\n",
       "      <td>1555</td>\n",
       "    </tr>\n",
       "    <tr>\n",
       "      <th>unique</th>\n",
       "      <td>4</td>\n",
       "      <td>4</td>\n",
       "      <td>4</td>\n",
       "      <td>3</td>\n",
       "      <td>3</td>\n",
       "      <td>3</td>\n",
       "      <td>4</td>\n",
       "    </tr>\n",
       "    <tr>\n",
       "      <th>top</th>\n",
       "      <td>vhigh</td>\n",
       "      <td>med</td>\n",
       "      <td>4</td>\n",
       "      <td>4</td>\n",
       "      <td>med</td>\n",
       "      <td>high</td>\n",
       "      <td>unacc</td>\n",
       "    </tr>\n",
       "    <tr>\n",
       "      <th>freq</th>\n",
       "      <td>399</td>\n",
       "      <td>394</td>\n",
       "      <td>393</td>\n",
       "      <td>528</td>\n",
       "      <td>528</td>\n",
       "      <td>527</td>\n",
       "      <td>1086</td>\n",
       "    </tr>\n",
       "  </tbody>\n",
       "</table>\n",
       "</div>"
      ],
      "text/plain": [
       "       buying maint doors persons lug_boot safety  class\n",
       "count    1555  1555  1555    1555     1555   1555   1555\n",
       "unique      4     4     4       3        3      3      4\n",
       "top     vhigh   med     4       4      med   high  unacc\n",
       "freq      399   394   393     528      528    527   1086"
      ]
     },
     "execution_count": 4,
     "metadata": {},
     "output_type": "execute_result"
    }
   ],
   "source": [
    "train_df.describe()"
   ]
  },
  {
   "cell_type": "markdown",
   "id": "c21e896d-1a02-48e7-bfc5-f7afb813c373",
   "metadata": {},
   "source": [
    "We have 6 input features and 1 response variable with multivariate classes of 3 or 4."
   ]
  },
  {
   "cell_type": "markdown",
   "id": "0ddde66a-01b4-4fda-85de-d6604df6d277",
   "metadata": {},
   "source": [
    "* Frequency Distribution of target car acceptability class "
   ]
  },
  {
   "cell_type": "code",
   "execution_count": 5,
   "id": "aaae346a-0597-4d84-8e2f-1bad6c2c7d2f",
   "metadata": {},
   "outputs": [
    {
     "data": {
      "application/vnd.vegalite.v4+json": {
       "$schema": "https://vega.github.io/schema/vega-lite/v4.17.0.json",
       "config": {
        "axis": {
         "labelFontSize": 10,
         "titleFontSize": 10
        },
        "title": {
         "fontSize": 12
        },
        "view": {
         "continuousHeight": 300,
         "continuousWidth": 400
        }
       },
       "data": {
        "url": "http://localhost:52332/28c7d5e853aaee3ccfcaeadbadcd47c4.json"
       },
       "encoding": {
        "x": {
         "aggregate": "count",
         "title": "Car safety level",
         "type": "quantitative"
        },
        "y": {
         "field": "class",
         "sort": "-x",
         "title": "Count of car safety class",
         "type": "nominal"
        }
       },
       "mark": "bar",
       "title": "Frequency Distribution of target car safety class"
      },
      "image/png": "[encoded data removed]",
      "text/plain": [
       "<VegaLite 4 object>\n",
       "\n",
       "If you see this message, it means the renderer has not been properly enabled\n",
       "for the frontend that you are using. For more information, see\n",
       "https://altair-viz.github.io/user_guide/troubleshooting.html\n"
      ]
     },
     "execution_count": 5,
     "metadata": {},
     "output_type": "execute_result"
    }
   ],
   "source": [
    "alt.Chart(train_df, title = 'Frequency Distribution of target car safety class').mark_bar().encode(\n",
    "    x=alt.X('count()', title = 'Car safety level'),\n",
    "    y=alt.Y('class', sort='-x', title = 'Count of car safety class')\n",
    ").configure_axis(\n",
    "    labelFontSize=10,                                                \n",
    "    titleFontSize=10).configure_title(\n",
    "    fontSize=12)\n"
   ]
  },
  {
   "cell_type": "markdown",
   "id": "a9f4080e-7cc7-401d-90f4-c7dfa21d1bf6",
   "metadata": {},
   "source": []
  },
  {
   "cell_type": "markdown",
   "id": "f243a153-81a0-40b6-8c06-13d1891a4c8a",
   "metadata": {},
   "source": [
    "* We have a quite imbalanced training data, so we might need to use SMOTE or other oversampling/Undersampling methods."
   ]
  },
  {
   "cell_type": "markdown",
   "id": "9b04f371-e36a-4ab4-91fb-f28db332956a",
   "metadata": {},
   "source": [
    "2. Side by Side counting combinations of categorical groups."
   ]
  },
  {
   "cell_type": "code",
   "execution_count": 6,
   "id": "4bb465c5-b704-4fc2-83c4-103162935861",
   "metadata": {},
   "outputs": [
    {
     "data": {
      "application/vnd.vegalite.v4+json": {
       "$schema": "https://vega.github.io/schema/vega-lite/v4.17.0.json",
       "config": {
        "view": {
         "continuousHeight": 300,
         "continuousWidth": 400
        }
       },
       "repeat": [
        "buying",
        "maint",
        "doors",
        "persons",
        "lug_boot",
        "safety"
       ],
       "spec": {
        "data": {
         "url": "http://localhost:54855/28c7d5e853aaee3ccfcaeadbadcd47c4.json"
        },
        "encoding": {
         "color": {
          "aggregate": "count",
          "type": "quantitative"
         },
         "size": {
          "aggregate": "count",
          "type": "quantitative"
         },
         "x": {
          "field": {
           "repeat": "repeat"
          },
          "sort": "-color"
         },
         "y": {
          "field": "class",
          "sort": "color",
          "type": "nominal"
         }
        },
        "height": 100,
        "mark": "square",
        "width": 100
       }
      },
      "image/png": "[encoded data removed]",
      "text/plain": [
       "<VegaLite 4 object>\n",
       "\n",
       "If you see this message, it means the renderer has not been properly enabled\n",
       "for the frontend that you are using. For more information, see\n",
       "https://altair-viz.github.io/user_guide/troubleshooting.html\n"
      ]
     },
     "execution_count": 6,
     "metadata": {},
     "output_type": "execute_result"
    }
   ],
   "source": [
    "train_df = train_df.applymap(str)\n",
    "alt.Chart(train_df).mark_square().encode(\n",
    "    x=alt.X(alt.repeat(), sort='-color'),\n",
    "    y=alt.Y('class', sort='color'),\n",
    "    color='count()',\n",
    "    size='count()').properties(\n",
    "    width=100,\n",
    "    height=100\n",
    ").repeat(\n",
    "    ['buying', 'maint', 'doors', 'persons', 'lug_boot', 'safety']\n",
    ")"
   ]
  },
  {
   "cell_type": "markdown",
   "id": "676dedfa-35ab-45b6-9e49-7eb61971a60e",
   "metadata": {},
   "source": [
    "* We can see for factors buying, maint, doors and lug_boot, the count of each category is about the same for unacceptable class. But for safety and capacity of car, less capacity and lower safety is associated with lower popularity. Since all of our variables are categorical variables, we can set regression tree as our baseline model and maybe use random forest as our advanced model. "
   ]
  }
 ],
 "metadata": {
  "kernelspec": {
   "display_name": "Python [conda env:573]",
   "language": "python",
   "name": "conda-env-573-py"
  },
  "language_info": {
   "codemirror_mode": {
    "name": "ipython",
    "version": 3
   },
   "file_extension": ".py",
   "mimetype": "text/x-python",
   "name": "python",
   "nbconvert_exporter": "python",
   "pygments_lexer": "ipython3",
   "version": "3.10.6"
  }
 },
 "nbformat": 4,
 "nbformat_minor": 5
}
